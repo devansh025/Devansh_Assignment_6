{
 "cells": [
  {
   "cell_type": "code",
   "execution_count": 2,
   "id": "5598993b",
   "metadata": {},
   "outputs": [
    {
     "name": "stdout",
     "output_type": "stream",
     "text": [
      "Enter the number here - 6\n",
      "The number entered is a perfect number\n"
     ]
    }
   ],
   "source": [
    "# 1\n",
    "# perfect number or not \n",
    "# test cases = 6 28 496 8128 \n",
    "def main():\n",
    "    user_input = int(input(\"Enter the number here - \"))\n",
    "    divisor_list = []\n",
    "    sum = 0\n",
    "    for i in range(1,user_input):\n",
    "        if user_input % i == 0:\n",
    "            divisor_list.append(i)\n",
    "    for j in range(0 , len(divisor_list)):\n",
    "        sum = sum + divisor_list[j]\n",
    "    \n",
    "    if sum == user_input:\n",
    "        print(\"The number entered is a perfect number\")\n",
    "    else:\n",
    "        print(\"The number entered is not a perfect number\")\n",
    "main()"
   ]
  },
  {
   "cell_type": "code",
   "execution_count": 6,
   "id": "edf74389",
   "metadata": {},
   "outputs": [
    {
     "name": "stdout",
     "output_type": "stream",
     "text": [
      "Enter the string here - nurses run\n",
      "The string is palindrome\n"
     ]
    }
   ],
   "source": [
    "# 2\n",
    "# passed string is palindrome or not\n",
    "def main():\n",
    "    user_input = str(input(\"Enter the string here - \"))\n",
    "    string = user_input.replace(\" \" , \"\")\n",
    "    reverse = string[::-1]\n",
    "    if reverse == string:\n",
    "        print(\"The string is palindrome\")\n",
    "    else:\n",
    "        print(\"The string is not a palindrome\")\n",
    "main()"
   ]
  },
  {
   "cell_type": "code",
   "execution_count": 7,
   "id": "d846e6fa",
   "metadata": {},
   "outputs": [
    {
     "name": "stdout",
     "output_type": "stream",
     "text": [
      "Enter the number of rows - 8\n",
      "         1 \n",
      "        1 1 \n",
      "       1 2 1 \n",
      "      1 3 3 1 \n",
      "     1 4 6 4 1 \n",
      "    1 5 10 10 5 1 \n",
      "   1 6 15 20 15 6 1 \n",
      "  1 7 21 35 35 21 7 1 \n"
     ]
    }
   ],
   "source": [
    "# 3\n",
    "# first n rows of pascals triangle\n",
    "from math import factorial\n",
    "def main():\n",
    "    rows = int(input(\"Enter the number of rows - \"))\n",
    "\n",
    "    for i in range(rows):\n",
    "        for j in range(rows - i+ 1):\n",
    "            print( end = \" \")\n",
    "        \n",
    "        for t in range(i+1):\n",
    "            answer = factorial(i)//(factorial(t) * factorial(i-t))\n",
    "            print(answer , end = \" \")\n",
    "        print()\n",
    "main()"
   ]
  },
  {
   "cell_type": "code",
   "execution_count": 9,
   "id": "8b07d8ba",
   "metadata": {},
   "outputs": [
    {
     "name": "stdout",
     "output_type": "stream",
     "text": [
      "Enter the string here - My name is Devansh \n",
      "Not Panagram\n"
     ]
    }
   ],
   "source": [
    "# 4\n",
    "# string is a panagram or not (contains every word of the alphabet table )\n",
    "def main():\n",
    "    Input = str(input(\"Enter the string here - \"))\n",
    "    alphabet = \"abcdefghijklmnopqrstuvwxyz\"\n",
    "    for char in alphabet:\n",
    "        if char not in Input.lower():\n",
    "            flag = True\n",
    "        else:\n",
    "            flag = False\n",
    "    if flag:\n",
    "        print(\"Not Panagram\")\n",
    "    else:\n",
    "        print(\"Panagram\")\n",
    "main()"
   ]
  },
  {
   "cell_type": "code",
   "execution_count": 11,
   "id": "f3e6f45c",
   "metadata": {},
   "outputs": [
    {
     "name": "stdout",
     "output_type": "stream",
     "text": [
      "Enter the string here - Hello-everyone-my-name-is-Devansh\n",
      "-Devansh -Hello -everyone -is -my -name "
     ]
    }
   ],
   "source": [
    "# 5\n",
    "# sorting alphabetically\n",
    "def main():\n",
    "    input_string = str(input(\"Enter the string here - \"))\n",
    "    list = input_string.split(\"-\")\n",
    "    list.sort()\n",
    "    for i in range(0 , len(list)):\n",
    "        print(f\"-{list[i]}\" , end = \" \")\n",
    "        \n",
    "    \n",
    "main()"
   ]
  },
  {
   "cell_type": "code",
   "execution_count": 20,
   "id": "279dd3eb",
   "metadata": {},
   "outputs": [
    {
     "name": "stdout",
     "output_type": "stream",
     "text": [
      "Student id is 22105065\n",
      "Student id is 22105065\n",
      "The student name is DEVANSH\n",
      "The student name is DEVANSH and branch is ECE\n"
     ]
    }
   ],
   "source": [
    "# 6\n",
    "def student_data(student_id , **kwargs):\n",
    "    print(f\"Student id is {student_id}\")\n",
    "    if \"student_name\" in kwargs:\n",
    "        print(f\"The student name is {kwargs['student_name']}\")\n",
    "    if \"student_name\" and \"student_branch\" in kwargs:\n",
    "        print(f\"The student name is {kwargs['student_name']} and branch is {kwargs['student_branch']}\")\n",
    "\n",
    "def main():\n",
    "    \n",
    "    student_data(student_id=\"22105065\")\n",
    "    student_data(student_id=\"22105065\" , student_name=\"DEVANSH\" , student_branch=\"ECE\")\n",
    "\n",
    "main()"
   ]
  },
  {
   "cell_type": "code",
   "execution_count": 13,
   "id": "5cdc9681",
   "metadata": {},
   "outputs": [
    {
     "name": "stdout",
     "output_type": "stream",
     "text": [
      "True\n",
      "True\n",
      "Whether the said classes are subclasses of the built-in object class or not\n",
      "True\n",
      "True\n"
     ]
    }
   ],
   "source": [
    "# 7\n",
    "# instance or not and subclasses\n",
    "def main():\n",
    "    class student():\n",
    "        pass\n",
    "    class marks():\n",
    "        pass\n",
    "    student1 = student()\n",
    "    marks1 = marks()\n",
    "    print(isinstance(student1 , student))\n",
    "    print(isinstance(marks1 , marks))\n",
    "    print(\"Whether the said classes are subclasses of the built-in object class or not\")\n",
    "    print(issubclass(student , object))\n",
    "    print(issubclass(marks , object))\n",
    "\n",
    "main()"
   ]
  },
  {
   "cell_type": "code",
   "execution_count": 14,
   "id": "2749b2f4",
   "metadata": {},
   "outputs": [
    {
     "name": "stdout",
     "output_type": "stream",
     "text": [
      "[[-10, 2, 8], [-7, -3, 10]]\n"
     ]
    }
   ],
   "source": [
    "# 8\n",
    "# find the three elements that sum to zero from a set of n real number\n",
    "def main():\n",
    "    class solution():\n",
    "        def findTriplets(self , list1 , n):\n",
    "            list2 = []\n",
    "            for i in range(0 , n-2):\n",
    "                for j in range(i+1 , n-1):\n",
    "                    for k in range(j+1 , n):\n",
    "                        if list1[i] + list1[j] + list1[k] == 0:\n",
    "                            a = list1[i]\n",
    "                            b = list1[j]\n",
    "                            c = list1[k]\n",
    "                            list_number = [a , b ,c]\n",
    "                            list2.append(list_number)\n",
    "            print(list2)\n",
    "            \n",
    "    solution1 = solution()\n",
    "    list1 = [-25, -10, -7, -3, 2, 4, 8, 10]\n",
    "    n = len(list1)\n",
    "    solution1.findTriplets(list1 , n)\n",
    "main()"
   ]
  },
  {
   "cell_type": "code",
   "execution_count": 15,
   "id": "f3d26c4f",
   "metadata": {},
   "outputs": [
    {
     "name": "stdout",
     "output_type": "stream",
     "text": [
      "if the set of parnatheses is correct? - False\n",
      "if the set of parnatheses is correct? - True\n"
     ]
    }
   ],
   "source": [
    "# 9\n",
    "# validity of a string of parantheses\n",
    "def check(sequence):\n",
    "    for i in range(0,4):\n",
    "        if \"()\" in sequence:\n",
    "            sequence = sequence.replace(\"()\" , \"\")\n",
    "        elif \"{}\" in sequence:\n",
    "            sequence = sequence.replace(\"{}\" , \"\")\n",
    "        elif \"[]\" in sequence:\n",
    "            sequence = sequence.replace(\"[]\" , \"\")\n",
    "        else:\n",
    "            return not sequence\n",
    "def main():\n",
    "    seq = \"{{}{[\"\n",
    "    print(f\"if the set of parnatheses is correct? - {check(seq)}\")\n",
    "    seq2 = \"(){}[]\"\n",
    "    print(f\"if the set of parnatheses is correct? - {check(seq2)}\")\n",
    "main()"
   ]
  },
  {
   "cell_type": "code",
   "execution_count": null,
   "id": "c440489f",
   "metadata": {},
   "outputs": [],
   "source": []
  }
 ],
 "metadata": {
  "kernelspec": {
   "display_name": "Python 3 (ipykernel)",
   "language": "python",
   "name": "python3"
  },
  "language_info": {
   "codemirror_mode": {
    "name": "ipython",
    "version": 3
   },
   "file_extension": ".py",
   "mimetype": "text/x-python",
   "name": "python",
   "nbconvert_exporter": "python",
   "pygments_lexer": "ipython3",
   "version": "3.9.13"
  }
 },
 "nbformat": 4,
 "nbformat_minor": 5
}
